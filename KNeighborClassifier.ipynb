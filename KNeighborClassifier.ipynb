{
 "cells": [
  {
   "cell_type": "code",
   "execution_count": null,
   "id": "84e24390",
   "metadata": {},
   "outputs": [],
   "source": [
    "# importing the libraries and dataset\n",
    "from sklearn import datasets\n",
    "from sklearn.neighbors import KNeighborsClassifier\n",
    "iris = datasets.load_iris()"
   ]
  },
  {
   "cell_type": "code",
   "execution_count": null,
   "id": "5ba1bda5",
   "metadata": {},
   "outputs": [],
   "source": [
    "# features is data and labels is target\n",
    "features = iris.data\n",
    "labels = iris.target"
   ]
  },
  {
   "cell_type": "code",
   "execution_count": null,
   "id": "1809f662",
   "metadata": {},
   "outputs": [],
   "source": [
    "print(iris)"
   ]
  },
  {
   "cell_type": "code",
   "execution_count": null,
   "id": "11c03b48",
   "metadata": {},
   "outputs": [],
   "source": [
    "print (features[0], labels[0])"
   ]
  },
  {
   "cell_type": "code",
   "execution_count": null,
   "id": "50607edb",
   "metadata": {},
   "outputs": [],
   "source": [
    "# DESCR is used to describe the database\n",
    "print(iris.DESCR)"
   ]
  },
  {
   "cell_type": "code",
   "execution_count": null,
   "id": "9a8fd13a",
   "metadata": {},
   "outputs": [],
   "source": [
    "clf = KNeighborsClassifier()\n",
    "clf.fit(features, labels)"
   ]
  },
  {
   "cell_type": "code",
   "execution_count": null,
   "id": "b01f9684",
   "metadata": {},
   "outputs": [],
   "source": [
    "preds = clf.predict([[31,2,1,0.1]])\n",
    "print(preds)"
   ]
  },
  {
   "cell_type": "code",
   "execution_count": null,
   "id": "e390c433",
   "metadata": {},
   "outputs": [],
   "source": []
  }
 ],
 "metadata": {
  "kernelspec": {
   "display_name": "Python 3",
   "language": "python",
   "name": "python3"
  },
  "language_info": {
   "codemirror_mode": {
    "name": "ipython",
    "version": 3
   },
   "file_extension": ".py",
   "mimetype": "text/x-python",
   "name": "python",
   "nbconvert_exporter": "python",
   "pygments_lexer": "ipython3",
   "version": "3.8.5"
  }
 },
 "nbformat": 4,
 "nbformat_minor": 5
}
